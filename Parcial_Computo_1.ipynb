{
  "nbformat": 4,
  "nbformat_minor": 0,
  "metadata": {
    "colab": {
      "provenance": [],
      "toc_visible": true,
      "include_colab_link": true
    },
    "kernelspec": {
      "name": "python3",
      "display_name": "Python 3"
    },
    "language_info": {
      "name": "python"
    }
  },
  "cells": [
    {
      "cell_type": "markdown",
      "metadata": {
        "id": "view-in-github",
        "colab_type": "text"
      },
      "source": [
        "<a href=\"https://colab.research.google.com/github/Usis075419/Programacion-III/blob/main/Parcial_Computo_1.ipynb\" target=\"_parent\"><img src=\"https://colab.research.google.com/assets/colab-badge.svg\" alt=\"Open In Colab\"/></a>"
      ]
    },
    {
      "cell_type": "markdown",
      "source": [
        "1.Desarrolle un algoritmo en Python que permita obtener los descuentos ISSS, \n",
        "AFP,  I.S.R,  vacaciones,  aguinaldo  etc.  Uno  para  empresas  y  otro  para \n",
        "personas. Favor investigue los datos correspondientes según ley. El usuario \n",
        "deberá ingresar el sueldo y que el sistema le diga el valor neto a pagarle y \n",
        "las deducciones.\n",
        "\n",
        "Empresa\n",
        "ISSS: 7.05%\n",
        "AFP:7.75%\n",
        "I.S.R: 13.59% \n",
        "$0.00-$158.33 SIN RETENCION \n",
        "$158.33-$380.95  10%\n",
        "$380.95-$952.34   20%\n",
        "$952.34- EN ADELANTE... 30%\n",
        "Vacaciones 15 dias:30%\n",
        "Aguinaldo: 50%\n",
        "\n",
        "empleado:\n",
        "ISSS:3.0%\n",
        "AFP:7.25%\n",
        "I.S.R: no aplica\n",
        "Vacaciones:30%\n",
        "Aguinaldo:50%\n"
      ],
      "metadata": {
        "id": "K1qYHIuEi3Rh"
      }
    },
    {
      "cell_type": "code",
      "source": [
        "def empresa(sueldo):\n",
        "  isss = (sueldo * 7.05) / 100\n",
        "  afp = (sueldo * 7.75) / 100\n",
        "  isr = (sueldo * 13.59) / 100\n",
        "  vaca = sueldo * 0.3\n",
        "  agui = sueldo * 0.5\n",
        "  deducciones = isss+afp+isr\n",
        "  neto = sueldo - deducciones + vaca + agui\n",
        "  print(\"**DEDUCCIONES**\")\n",
        "  print(\"-ISSS: \",isss)\n",
        "  print(\"-AFP: \",afp)\n",
        "  print(\"-ISR: \", isr)\n",
        "  print(\"+VACACIONES: \",vaca)\n",
        "  print(\"+Aguinaldo: \",agui,\"\\n\")\n",
        "  print(\"**SUELDO TOTAL** \")\n",
        "  print(\"Sueldo Neto: \", neto)\n",
        "  return"
      ],
      "metadata": {
        "id": "KlZZ6-aOwXTo"
      },
      "execution_count": null,
      "outputs": []
    },
    {
      "cell_type": "code",
      "source": [
        "def empleado(sueldo):\n",
        "  isss = (sueldo * 3) / 100\n",
        "  afp = (sueldo * 7.25) / 100\n",
        "  vaca = sueldo * 0.3\n",
        "  agui = sueldo * 0.5\n",
        "  deducciones = isss+afp\n",
        "  neto = sueldo - deducciones + vaca + agui\n",
        "  print(\"**DEDUCCIONES**\")\n",
        "  print(\"-ISSS: \",isss)\n",
        "  print(\"-AFP: \",afp)\n",
        "  print(\"-ISR: NO APLICA\")\n",
        "  print(\"+VACACIONES: \",vaca)\n",
        "  print(\"+Aguinaldo: \",agui,\"\\n\")\n",
        "  print(\"**SUELDO TOTAL** \")\n",
        "  print(\"Sueldo Neto: \", neto)\n",
        "  return"
      ],
      "metadata": {
        "id": "rzl_V-zq3s7G"
      },
      "execution_count": null,
      "outputs": []
    },
    {
      "cell_type": "code",
      "source": [
        "sueldo = int(input(\"INGRESE SU SUELDO: \"))\n",
        "if sueldo <= 216 :\n",
        "\n",
        "  empleado(sueldo)\n",
        "\n",
        "elif sueldo > 216:\n",
        "\n",
        "  empresa(sueldo)"
      ],
      "metadata": {
        "colab": {
          "base_uri": "https://localhost:8080/"
        },
        "id": "w0HHUJiw38d8",
        "outputId": "f78e57e1-6ccc-4f55-94c8-27a3f00ed5dc"
      },
      "execution_count": null,
      "outputs": [
        {
          "output_type": "stream",
          "name": "stdout",
          "text": [
            "INGRESE SU SUELDO: 300\n",
            "**DEDUCCIONES**\n",
            "-ISSS:  21.15\n",
            "-AFP:  23.25\n",
            "-ISR:  40.77\n",
            "+VACACIONES:  90.0\n",
            "+Aguinaldo:  150.0 \n",
            "\n",
            "**SUELDO TOTAL** \n",
            "Sueldo Neto:  454.83\n"
          ]
        }
      ]
    },
    {
      "cell_type": "markdown",
      "source": [
        "2.Desarrolle  un  algoritmo  en  Python  que  calcule  el  IMPUESTO  A  LAS \n",
        "ACTIVIDADES ECONOMICAS de acuerdo con la siguiente tabla. El monto \n",
        "de la actividad económica debe ser introducido por el usuario"
      ],
      "metadata": {
        "id": "GFyxrt7Ji_rL"
      }
    },
    {
      "cell_type": "code",
      "source": [
        "actividadE = float(input(\"INGRESE SU ACTIVIDAD ECONOMICA: $\"))\n",
        "\n",
        "if actividadE < 500:\n",
        "  impuesto = (actividadE - 0.1)/1000*0+1.5\n",
        "  print(\"SU IMPUESTO ES DE: $\",impuesto)\n",
        "elif actividadE < 1000:\n",
        "  impr = (actividadE - 500.01)/1000*3+1.5\n",
        "  print(\"SU IMPUESTO ES DE: $\",impr)\n",
        "elif actividadE < 2000:\n",
        "  impr = (actividadE - 1000.01)/1000*3+3\n",
        "  print(\"SU IMPUESTO ES DE: $\",impr)\n",
        "elif actividadE < 3000:\n",
        "  impr = (actividadE - 2000.01)/1000*3+6\n",
        "  print(\"SU IMPUESTO ES DE: $\",impr)\n",
        "elif actividadE < 6000:\n",
        "  impr = (actividadE - 3000.01)/1000*2+9\n",
        "  print(\"SU IMPUESTO ES DE: $\",impr)\n",
        "elif actividadE < 18000:\n",
        "  impr = (actividadE - 8000.01)/1000*2+15\n",
        "  print(\"SU IMPUESTO ES DE: $\",impr)\n",
        "elif actividadE < 30000:\n",
        "  impr = (actividadE - 18000.01)/1000*2+39\n",
        "  print(\"SU IMPUESTO ES DE: $\",impr)\n",
        "elif actividadE < 60000:\n",
        "  impr = (actividadE - 30000.01)/1000*1+63\n",
        "  print(\"SU IMPUESTO ES DE: $\",impr)\n",
        "elif actividadE < 100000:\n",
        "  impr = (actividadE - 60000.01)/1000*0.8+93\n",
        "  print(\"SU IMPUESTO ES DE: $\",impr)\n",
        "elif actividadE < 200000:\n",
        "  impr = (actividadE - 100000.01)/1000*0.7+125\n",
        "  print(\"SU IMPUESTO ES DE: $\",impr)\n",
        "elif actividadE < 300000:\n",
        "  impr = (actividadE - 200000.01)/1000*0.6+195\n",
        "  print(\"SU IMPUESTO ES DE: $\",impr)\n",
        "elif actividadE < 400000:\n",
        "  impr = (actividadE - 300000.01)/1000*0.45+255\n",
        "  print(\"SU IMPUESTO ES DE: $\",impr)\n",
        "elif actividadE < 500000:\n",
        "  impr = (actividadE - 400000.01)/1000*0.4+300\n",
        "  print(\"SU IMPUESTO ES DE: $\",impr)\n",
        "elif actividadE < 1000000:\n",
        "  impr = (actividadE - 500000.01)/1000*0.30+340\n",
        "  print(\"SU IMPUESTO ES DE: $\",impr)\n",
        "elif actividadE < 99999999:\n",
        "  impr = (actividadE - 100000.01)/1000*0.18+490\n",
        "  print(\"SU IMPUESTO ES DE: $\",impr)\n",
        "else:\n",
        "  print(\"INTRODUZCA BIEN LA CANTIDAD\")"
      ],
      "metadata": {
        "id": "47YDeWn-5lXv"
      },
      "execution_count": null,
      "outputs": []
    },
    {
      "cell_type": "markdown",
      "source": [
        "3.Desarrolle  el  conversor  de  Área  (Superficie)  haciendo  uso  de  los \n",
        "diccionarios  y  las  funciones  de  usuario  en  Python  que  contenga  las \n",
        "siguientes opciones: (20%) \n",
        "a.  Pie Cuadrado \n",
        "b.  Vara Cuadrada \n",
        "c.  Yarda Cuadrada \n",
        "d.  Metro Cuadrado \n",
        "e.  Tareas \n",
        "f.  Manzana \n",
        "g.  Hectárea "
      ],
      "metadata": {
        "id": "7sRYqL35jGH4"
      }
    },
    {
      "cell_type": "code",
      "source": [
        "area ={\n",
        "    \"1\":1.076e+7\n",
        "    ,\n",
        "    \"2\":1.4233\n",
        "    ,\n",
        "    \"3\":1.1196e+6\n",
        "    ,\n",
        "    \"4\":1e+6\n",
        "    ,\n",
        "    \"5\":1590.3307888\n",
        "    ,\n",
        "    \"6\":141.7\n",
        "    ,\n",
        "    \"7\":100\n",
        "    \n",
        "}\n",
        "\n",
        "def covertir(de,a,cantidad):\n",
        "  return area[a]/area[de]*cantidad\n",
        "\n",
        "print(\"***MENU DE CONVERSIONES***\")\n",
        "print(\"1-Pie Cuadrado\")\n",
        "print(\"2-Vara Cuadrada\")\n",
        "print(\"3-Yarda Cuadrada\")\n",
        "print(\"4-Metro Cuadrado\")\n",
        "print(\"5-Tareas\")\n",
        "print(\"6-Manzanas\")\n",
        "print(\"7-Hectareas\\n\")\n",
        "\n",
        "\n",
        "de = input(\"DE:\")\n",
        "a = input(\"A:\")\n",
        "cantidad = float(input(\"Cantidad: \"))\n",
        "\n",
        "print(\"La Conversion es:\", covertir(de,a,cantidad))"
      ],
      "metadata": {
        "id": "Y9r4rDBj5-17"
      },
      "execution_count": null,
      "outputs": []
    },
    {
      "cell_type": "markdown",
      "source": [
        "4.Desarrolle un programa en Python que simule a un cajero automático. Haga \n",
        "uso de las estructuras de control."
      ],
      "metadata": {
        "id": "q5KvCitUjPFb"
      }
    },
    {
      "cell_type": "code",
      "source": [
        "usuario = input(\"Cual es tu nombre de usuario: \")\n",
        "print(\"vienvenido a tu cajero de confianza \",usuario)\n",
        "\n",
        "print(\"------------------------\")\n",
        "s = \"s\"\n",
        "while s == \"s\":\n",
        "  retiro = float(input(\"ingrese cantidad a retirar: \"))\n",
        " \n",
        "  if retiro>=0:\n",
        "    print(\"Su \",retiro,\" en billetes de los diferentes valores \")\n",
        "\n",
        "   \n",
        "    if retiro>=20:\n",
        "      Billete20 = int(retiro // 20)\n",
        "      resto20 = retiro % 20\n",
        "      print(Billete20,\" billetes de $20 dolares\")\n",
        "\n",
        "    \n",
        "    if retiro>=10:\n",
        "      Billete10 = int(resto20 // 10)\n",
        "      resto10 = resto20 % 10\n",
        "      print(Billete10,\" billetes de $10 dolares\") \n",
        "\n",
        "    \n",
        "    if retiro>=5:\n",
        "      Billete5 = int(resto10 // 5)\n",
        "      resto5 = resto10 % 5\n",
        "      print(Billete5,\" billetes de $5 dolares\") \n",
        "\n",
        "    \n",
        "    if retiro>=1:\n",
        "      Billete1 = int(resto5 // 1)\n",
        "      resto1 = resto5 % 1\n",
        "      print(Billete1,\" billetes de $1 dolar\")\n",
        "\n",
        "   \n",
        "    if retiro>=0.25:\n",
        "      Moneda025 = int(resto1 // 0.25)\n",
        "      resto025 = resto1 % 0.25\n",
        "      print(Moneda025,\" monedas de $0.25 ctvs\") \n",
        "\n",
        "    \n",
        "    if retiro>=0.10:\n",
        "      Moneda010 = int(resto025 // 0.10)\n",
        "      resto010 = resto025 % 0.10\n",
        "      print(Moneda010,\" monedas de $0.10 ctvs\") \n",
        "\n",
        "   \n",
        "    if retiro>=0.01:\n",
        "      Moneda001 = int(resto010 // 0.01)\n",
        "      resto001 = resto010 % 0.01\n",
        "      print(Moneda001,\" monedas de $0.01 ctvs\") \n",
        "\n",
        "  else:\n",
        "    print(\"Cantidad invalida!\")\n",
        "\n",
        "  print(\"------------------------\")\n",
        "  s = input(\"Ingrese la letra s si desea continuar y n si desea salir\")\n",
        "  print(\"------------------------\")\n"
      ],
      "metadata": {
        "colab": {
          "base_uri": "https://localhost:8080/"
        },
        "outputId": "f296a2e8-f6df-4631-8d5d-33d524ffe651",
        "id": "35wXjmQUHEa2"
      },
      "execution_count": null,
      "outputs": [
        {
          "output_type": "stream",
          "name": "stdout",
          "text": [
            "Cual es tu nombre de usuario: estela\n",
            "vienvenido a tu cajero de confianza  estela\n",
            "------------------------\n",
            "ingrese cantidad a retirar: 199.89\n",
            "Su  199.89  en billetes de los diferentes valores \n",
            "9  billetes de $20 dolares\n",
            "1  billetes de $10 dolares\n",
            "1  billetes de $5 dolares\n",
            "4  billetes de $1 dolar\n",
            "3  monedas de $0.25 ctvs\n",
            "1  monedas de $0.10 ctvs\n",
            "3  monedas de $0.01 ctvs\n",
            "------------------------\n",
            "Ingrese la letra s si desea continuar y n si desea salirn\n",
            "------------------------\n"
          ]
        }
      ]
    }
  ]
}